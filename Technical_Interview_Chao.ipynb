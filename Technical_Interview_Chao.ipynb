{
 "cells": [
  {
   "cell_type": "markdown",
   "metadata": {},
   "source": [
    "\n",
    "<font color='gray'>\n",
    "\n",
    "## Data Science Challenge\n",
    "\n",
    "The purpose of this challenge is to assist us in evaluating candidates for a role in our Product team. We only pass this challenge to candidates that we feel have a solid background and could be a good fit for our team. We appreciate you taking this time to help ensure we’re a good fit for each other.\n",
    "\n",
    "### Tips\n",
    "- Include code, graphics and text in a combined output. Tell a story, and let us know very clearly about your thoughts and analytical process.\n",
    "\n",
    "### Part 1: Experiment design\n",
    "#### Background\n",
    "In 2011 AirBnB ran some experiments which showed that when a property featured professional photography, users were much more likely to trust the property and consequently make a booking. So, AirBnB a launched [free professional photography service](https://www.airbnb.com/professional_photography) for all hosts. From inside the listing page, hosts were able to click a link to view more about the service, request a professional photographer, and subsequently (after the photo shoot) have their property profile updated with professional photos. \n",
    "\n",
    "The project initially proved to be a success:\n",
    "- Guests were more likely to book a property that had professional photography.\n",
    "- Hosts were able to charge more for listings with professional photos.\n",
    "\n",
    "However, over time this also became a multimillion dollar operation and a challenge to manage across over 200 countries. \n",
    "\n",
    "Fast forward to 2016, and some new developments have also helped with building trust:\n",
    "\n",
    "- 2013: Launch of identity verification for hosts and guests.\n",
    "- 2014: Launch of double blind reviews (neither host nor guest can see the other’s review), ensuring more honest reviews of properties and hosts. \n",
    "- 2015: Huge global PR lift for AirBnB, raising the profile of the company.\n",
    "\n",
    "An additional interesting development has also been the proliferation of smartphones with powerful and high-quality cameras (+apps) over the last few years, which has made it more possible for hosts to take good quality photos of their property. There is also the opinion that perhaps millennials have come to expect smartphone photos as the norm and are less likely to expect professional photography. \n",
    "\n",
    "#### Challenge\n",
    "\n",
    "Since the professional photography service consumes so many operational and financial resources, AirBnB management are unsure if they should continue. AirBnB management have asked the Data Science team to analyse the impact of the professional photography service in order to determine whether or not they should continue funding the service. \n",
    "\n",
    "- Provide full details about how you will run experiments to assess the impact of this service on both hosts and guests. How will you ensure that the experiments are valid and not biased? \n",
    "\n",
    "</font>\n",
    "\n"
   ]
  },
  {
   "cell_type": "markdown",
   "metadata": {},
   "source": [
    "---------------------------------------------"
   ]
  },
  {
   "cell_type": "markdown",
   "metadata": {},
   "source": [
    "## Response to the Part 1"
   ]
  },
  {
   "cell_type": "markdown",
   "metadata": {},
   "source": [
    "\n",
    "I will do a A/B testing and using different metrics to assess the impact of the professional photos.\n",
    "\n",
    "**Benchmark**\n",
    "\n",
    "Average price per night without using professional photos\n",
    "\n",
    "**Metrics**  \n",
    "1. Does the professional photo make more click rate?\n",
    "2. Does the professional photo make more conversion rate?\n",
    "3. Does the professional photo lead a higher profit or not? (optional)\n",
    "\n",
    "**Period**  \n",
    "\n",
    "30 days (based on this [ref](https://medium.com/airbnb-engineering/experiments-at-airbnb-e2db3abf39e7))\n",
    "\n",
    "**Sample groups**  \n",
    "\n",
    "The sample size depends on the control conversion rate/click rate. Let's set the splitting size 50% vs. 50%.   \n",
    "I'd choose 5 tops cities where there are more demanding on AirBnb and randomly choose control vs. test flats by area and price. \n",
    "\n",
    "\n",
    "**Steps**  \n",
    "Using Bacelona as an example.  \n",
    "1. I may choose in total 50 flats in L'Eixample with similar nightly price. \n",
    "2. Split them into 25 flats for control and 25 flats for test and run the test for 30 days but excluding the holiday in order to prevent the bias. \n",
    "3. Switch these two groups and run for the other 30 days to see if there is any impact from the professional photos.\n",
    "4. Other than switch the two groups, we can also test with different price of flats. (I am not sure of this part)\n",
    "5. Calulating p-values of the click rate and conversion rate between groups along the 30 days.\n",
    "\n",
    "\n",
    "\n",
    "\n",
    "\n"
   ]
  },
  {
   "cell_type": "markdown",
   "metadata": {},
   "source": [
    "-----------------------------"
   ]
  },
  {
   "cell_type": "markdown",
   "metadata": {},
   "source": [
    "<font color='gray'>\n",
    "    \n",
    "### Part 2: Result analysis\n",
    "\n",
    "#### Background\n",
    "A ride hailing app currently assigns new incoming trips to the _closest_ available vehicle. To compute such distance, the app currently computes haversine distance between the pickup point and each of the available vehicles. We refer to this distance as *linear*. \n",
    "\n",
    "However, the expected time to reach A from B in a city is not 100% defined by Haversine distance:\n",
    "cities are known to be places where huge amount of transport infrastructure (roads, highways, bridges, tunnels) is deployed to increase capacity and reduce average travel time. Interestingly, this heavy investment in infrastructure also implies that bird distance does not work so well as proxy, so the isochrones for travel time from certain location drastically differ from the perfect circle defined by bird distance, as we can see in this example from CDMX where the blue area represents that it is reachable within a 10 min drive. \n",
    "\n",
    "![Imgur](https://i.imgur.com/hYXhpiM.png)\n",
    " \n",
    "In addition to this, travel times can be drastically affected by traffic, accidents, road work...So that even if a driver is only 300m away, he might need to drive for 10 min because of road work in a bridge.\n",
    "\n",
    "#### Proposal\n",
    "In order to optimise operations, engineering team has suggested they could query an external real time maps API that not only has roads, but also knows realtime traffic information. We refer to this distance as *road* distance.\n",
    "\n",
    "In principle this assignment is more efficient and should outperform *linear*. However, the queries to the maps API have a certain cost (per query) and increase the complexity and reliability of a critical system within the company. So Data Science team has designed an experiment to help engineering to decide.\n",
    "\n",
    "#### Experimental design\n",
    "\n",
    "The designed experiment is very simple. For a period of 5 days, all trips in 3 cities (Bravos, Pentos and Volantis) have been randomly assigned using *linear* or *road* distance:\n",
    "\n",
    "* Trips whose *trip_id* starts with digits 0-8 were assigned using *road* distance.\n",
    "* Trips whose *trip_id* starts with digits 9-f were assigned using *linear* distance.\n",
    "\n",
    "#### Data description\n",
    "The collected data is available in [this link](https://www.dropbox.com/s/e3j1pybfz5o3vq9/intervals_challenge.json.gz?dl=0). Each object represent a `vehicle_interval` that contains the following attributes:\n",
    "\n",
    "* `type`: can be `going_to_pickup`, `waiting_for_rider` or `driving_to_destination`. \n",
    "* `trip_id`: uniquely identifies the trip.\n",
    "* `duration`: how long the interval last, in seconds.\n",
    "* `distance`: how far the vehicle moved in this interval, in meters.\n",
    "* `city_id`: either bravos, pentos and volantis.\n",
    "* `started_at`: when the interval started, UTC Time.\n",
    "* `vehicle_id`: uniquely identifies the vehicle.\n",
    "* `rider_id`: uniquely identifies the rider.\n",
    "\n",
    "#### Example\n",
    "```\n",
    "{\n",
    "  \"duration\": 857,\n",
    "  \"distance\": 5384,\n",
    "  \"started_at\": 1475499600.287,\n",
    "  \"trip_id\": \"c00cee6963e0dc66e50e271239426914\",\n",
    "  \"vehicle_id\": \"52d38cf1a3240d5cbdcf730f2d9a47d6\",\n",
    "  \"city_id\": \"pentos\",\n",
    "  \"type\": \"driving_to_destination\"\n",
    "}\n",
    "```\n",
    "\n",
    "#### Challenge\n",
    "Try to answer the following questions:\n",
    "\n",
    "1. Should the company move towards *road* distance? What's the max price it would make sense to pay per query? (make all the  assumptions you need, and make them explicit)\n",
    "2. How would you improve the experimental design? Would you collect any additional data? \n",
    "\n",
    "</font>"
   ]
  },
  {
   "cell_type": "markdown",
   "metadata": {},
   "source": [
    "-------------"
   ]
  },
  {
   "cell_type": "markdown",
   "metadata": {},
   "source": [
    "## Response to the Part 2\n",
    "\n",
    "\n",
    "\n"
   ]
  },
  {
   "cell_type": "code",
   "execution_count": 137,
   "metadata": {},
   "outputs": [],
   "source": [
    "import pandas as pd\n",
    "import numpy as np\n",
    "import json\n",
    "from scipy import stats\n",
    "import datetime\n",
    "import matplotlib.pyplot as plt\n",
    "from sklearn.preprocessing import StandardScaler\n",
    "import seaborn as sns\n",
    "%matplotlib inline\n",
    "import re\n",
    "import warnings\n",
    "warnings.filterwarnings(\"ignore\")"
   ]
  },
  {
   "cell_type": "code",
   "execution_count": 44,
   "metadata": {},
   "outputs": [],
   "source": [
    "import pandas as pd\n",
    "df = pd.read_json ('data/intervals_challenge.json', lines=True)"
   ]
  },
  {
   "cell_type": "code",
   "execution_count": 45,
   "metadata": {},
   "outputs": [
    {
     "data": {
      "text/html": [
       "<div>\n",
       "<style scoped>\n",
       "    .dataframe tbody tr th:only-of-type {\n",
       "        vertical-align: middle;\n",
       "    }\n",
       "\n",
       "    .dataframe tbody tr th {\n",
       "        vertical-align: top;\n",
       "    }\n",
       "\n",
       "    .dataframe thead th {\n",
       "        text-align: right;\n",
       "    }\n",
       "</style>\n",
       "<table border=\"1\" class=\"dataframe\">\n",
       "  <thead>\n",
       "    <tr style=\"text-align: right;\">\n",
       "      <th></th>\n",
       "      <th>duration</th>\n",
       "      <th>distance</th>\n",
       "      <th>started_at</th>\n",
       "      <th>trip_id</th>\n",
       "      <th>vehicle_id</th>\n",
       "      <th>city_id</th>\n",
       "      <th>type</th>\n",
       "    </tr>\n",
       "  </thead>\n",
       "  <tbody>\n",
       "    <tr>\n",
       "      <td>0</td>\n",
       "      <td>857</td>\n",
       "      <td>5384</td>\n",
       "      <td>2016-10-03 13:00:00.286999941</td>\n",
       "      <td>c00cee6963e0dc66e50e271239426914</td>\n",
       "      <td>52d38cf1a3240d5cbdcf730f2d9a47d6</td>\n",
       "      <td>pentos</td>\n",
       "      <td>driving_to_destination</td>\n",
       "    </tr>\n",
       "    <tr>\n",
       "      <td>1</td>\n",
       "      <td>245</td>\n",
       "      <td>1248</td>\n",
       "      <td>2016-10-03 13:00:00.852999926</td>\n",
       "      <td>427425e1f4318ca2461168bdd6e4fcbd</td>\n",
       "      <td>8336b28f24c3e7a1e3d582073b164895</td>\n",
       "      <td>volantis</td>\n",
       "      <td>going_to_pickup</td>\n",
       "    </tr>\n",
       "    <tr>\n",
       "      <td>2</td>\n",
       "      <td>1249</td>\n",
       "      <td>5847</td>\n",
       "      <td>2016-10-03 13:00:01.670000076</td>\n",
       "      <td>757867f6d7c00ef92a65bfaa3895943f</td>\n",
       "      <td>8885c59374cc539163e83f01ed59fd16</td>\n",
       "      <td>pentos</td>\n",
       "      <td>driving_to_destination</td>\n",
       "    </tr>\n",
       "    <tr>\n",
       "      <td>3</td>\n",
       "      <td>471</td>\n",
       "      <td>2585</td>\n",
       "      <td>2016-10-03 13:00:01.841000080</td>\n",
       "      <td>d09d1301d361f7359d0d936557d10f89</td>\n",
       "      <td>81b63920454f70b6755a494e3b28b3a7</td>\n",
       "      <td>bravos</td>\n",
       "      <td>going_to_pickup</td>\n",
       "    </tr>\n",
       "    <tr>\n",
       "      <td>4</td>\n",
       "      <td>182</td>\n",
       "      <td>743</td>\n",
       "      <td>2016-10-03 13:00:01.970000029</td>\n",
       "      <td>00f20a701f0ec2519353ef3ffaf75068</td>\n",
       "      <td>b73030977cbad61c9db55418909864fa</td>\n",
       "      <td>pentos</td>\n",
       "      <td>going_to_pickup</td>\n",
       "    </tr>\n",
       "  </tbody>\n",
       "</table>\n",
       "</div>"
      ],
      "text/plain": [
       "  duration distance                    started_at  \\\n",
       "0      857     5384 2016-10-03 13:00:00.286999941   \n",
       "1      245     1248 2016-10-03 13:00:00.852999926   \n",
       "2     1249     5847 2016-10-03 13:00:01.670000076   \n",
       "3      471     2585 2016-10-03 13:00:01.841000080   \n",
       "4      182      743 2016-10-03 13:00:01.970000029   \n",
       "\n",
       "                            trip_id                        vehicle_id  \\\n",
       "0  c00cee6963e0dc66e50e271239426914  52d38cf1a3240d5cbdcf730f2d9a47d6   \n",
       "1  427425e1f4318ca2461168bdd6e4fcbd  8336b28f24c3e7a1e3d582073b164895   \n",
       "2  757867f6d7c00ef92a65bfaa3895943f  8885c59374cc539163e83f01ed59fd16   \n",
       "3  d09d1301d361f7359d0d936557d10f89  81b63920454f70b6755a494e3b28b3a7   \n",
       "4  00f20a701f0ec2519353ef3ffaf75068  b73030977cbad61c9db55418909864fa   \n",
       "\n",
       "    city_id                    type  \n",
       "0    pentos  driving_to_destination  \n",
       "1  volantis         going_to_pickup  \n",
       "2    pentos  driving_to_destination  \n",
       "3    bravos         going_to_pickup  \n",
       "4    pentos         going_to_pickup  "
      ]
     },
     "execution_count": 45,
     "metadata": {},
     "output_type": "execute_result"
    }
   ],
   "source": [
    "df.head()"
   ]
  },
  {
   "cell_type": "code",
   "execution_count": 46,
   "metadata": {},
   "outputs": [
    {
     "data": {
      "text/html": [
       "<div>\n",
       "<style scoped>\n",
       "    .dataframe tbody tr th:only-of-type {\n",
       "        vertical-align: middle;\n",
       "    }\n",
       "\n",
       "    .dataframe tbody tr th {\n",
       "        vertical-align: top;\n",
       "    }\n",
       "\n",
       "    .dataframe thead th {\n",
       "        text-align: right;\n",
       "    }\n",
       "</style>\n",
       "<table border=\"1\" class=\"dataframe\">\n",
       "  <thead>\n",
       "    <tr style=\"text-align: right;\">\n",
       "      <th></th>\n",
       "      <th>duration</th>\n",
       "      <th>distance</th>\n",
       "      <th>started_at</th>\n",
       "      <th>trip_id</th>\n",
       "      <th>vehicle_id</th>\n",
       "      <th>city_id</th>\n",
       "      <th>type</th>\n",
       "    </tr>\n",
       "  </thead>\n",
       "  <tbody>\n",
       "    <tr>\n",
       "      <td>count</td>\n",
       "      <td>165170.0</td>\n",
       "      <td>165170.0</td>\n",
       "      <td>165170</td>\n",
       "      <td>165170</td>\n",
       "      <td>165170</td>\n",
       "      <td>165170</td>\n",
       "      <td>165170</td>\n",
       "    </tr>\n",
       "    <tr>\n",
       "      <td>unique</td>\n",
       "      <td>3344.0</td>\n",
       "      <td>13185.0</td>\n",
       "      <td>165012</td>\n",
       "      <td>58686</td>\n",
       "      <td>4746</td>\n",
       "      <td>3</td>\n",
       "      <td>3</td>\n",
       "    </tr>\n",
       "    <tr>\n",
       "      <td>top</td>\n",
       "      <td>4.0</td>\n",
       "      <td>0.0</td>\n",
       "      <td>2016-10-03 13:00:52.447000027</td>\n",
       "      <td>afacd04e18402f482e950ecc17c9f998</td>\n",
       "      <td>6661ee4bee90709e97c50a6bcb5ac682</td>\n",
       "      <td>pentos</td>\n",
       "      <td>going_to_pickup</td>\n",
       "    </tr>\n",
       "    <tr>\n",
       "      <td>freq</td>\n",
       "      <td>2972.0</td>\n",
       "      <td>16470.0</td>\n",
       "      <td>2</td>\n",
       "      <td>10</td>\n",
       "      <td>150</td>\n",
       "      <td>113684</td>\n",
       "      <td>58510</td>\n",
       "    </tr>\n",
       "    <tr>\n",
       "      <td>first</td>\n",
       "      <td>NaN</td>\n",
       "      <td>NaN</td>\n",
       "      <td>2016-10-03 13:00:00.286999941</td>\n",
       "      <td>NaN</td>\n",
       "      <td>NaN</td>\n",
       "      <td>NaN</td>\n",
       "      <td>NaN</td>\n",
       "    </tr>\n",
       "    <tr>\n",
       "      <td>last</td>\n",
       "      <td>NaN</td>\n",
       "      <td>NaN</td>\n",
       "      <td>2016-10-04 20:36:20.473999977</td>\n",
       "      <td>NaN</td>\n",
       "      <td>NaN</td>\n",
       "      <td>NaN</td>\n",
       "      <td>NaN</td>\n",
       "    </tr>\n",
       "  </tbody>\n",
       "</table>\n",
       "</div>"
      ],
      "text/plain": [
       "        duration  distance                     started_at  \\\n",
       "count   165170.0  165170.0                         165170   \n",
       "unique    3344.0   13185.0                         165012   \n",
       "top          4.0       0.0  2016-10-03 13:00:52.447000027   \n",
       "freq      2972.0   16470.0                              2   \n",
       "first        NaN       NaN  2016-10-03 13:00:00.286999941   \n",
       "last         NaN       NaN  2016-10-04 20:36:20.473999977   \n",
       "\n",
       "                                 trip_id                        vehicle_id  \\\n",
       "count                             165170                            165170   \n",
       "unique                             58686                              4746   \n",
       "top     afacd04e18402f482e950ecc17c9f998  6661ee4bee90709e97c50a6bcb5ac682   \n",
       "freq                                  10                               150   \n",
       "first                                NaN                               NaN   \n",
       "last                                 NaN                               NaN   \n",
       "\n",
       "       city_id             type  \n",
       "count   165170           165170  \n",
       "unique       3                3  \n",
       "top     pentos  going_to_pickup  \n",
       "freq    113684            58510  \n",
       "first      NaN              NaN  \n",
       "last       NaN              NaN  "
      ]
     },
     "execution_count": 46,
     "metadata": {},
     "output_type": "execute_result"
    }
   ],
   "source": [
    "df.describe()"
   ]
  },
  {
   "cell_type": "code",
   "execution_count": 47,
   "metadata": {},
   "outputs": [
    {
     "name": "stdout",
     "output_type": "stream",
     "text": [
      "<class 'pandas.core.frame.DataFrame'>\n",
      "RangeIndex: 165170 entries, 0 to 165169\n",
      "Data columns (total 7 columns):\n",
      "duration      165170 non-null object\n",
      "distance      165170 non-null object\n",
      "started_at    165170 non-null datetime64[ns]\n",
      "trip_id       165170 non-null object\n",
      "vehicle_id    165170 non-null object\n",
      "city_id       165170 non-null object\n",
      "type          165170 non-null object\n",
      "dtypes: datetime64[ns](1), object(6)\n",
      "memory usage: 8.8+ MB\n"
     ]
    }
   ],
   "source": [
    "df.info()"
   ]
  },
  {
   "cell_type": "markdown",
   "metadata": {},
   "source": [
    "### Identify the linear or road distance type\n",
    "\n",
    "As we are going to compare if these two types have any different, we need to identify them first"
   ]
  },
  {
   "cell_type": "code",
   "execution_count": 48,
   "metadata": {},
   "outputs": [],
   "source": [
    "# Define a function to separate the distance type by the first letter/number\n",
    "\n",
    "def regex_filter(val):\n",
    "    mo = re.search(r'^[0-8]',val)\n",
    "    if mo:\n",
    "        return \"road\"\n",
    "    else:\n",
    "        return \"linear\"\n",
    "\n",
    "df[\"distance_type\"] = df[\"trip_id\"].apply(regex_filter)"
   ]
  },
  {
   "cell_type": "code",
   "execution_count": 49,
   "metadata": {},
   "outputs": [
    {
     "data": {
      "text/html": [
       "<div>\n",
       "<style scoped>\n",
       "    .dataframe tbody tr th:only-of-type {\n",
       "        vertical-align: middle;\n",
       "    }\n",
       "\n",
       "    .dataframe tbody tr th {\n",
       "        vertical-align: top;\n",
       "    }\n",
       "\n",
       "    .dataframe thead th {\n",
       "        text-align: right;\n",
       "    }\n",
       "</style>\n",
       "<table border=\"1\" class=\"dataframe\">\n",
       "  <thead>\n",
       "    <tr style=\"text-align: right;\">\n",
       "      <th></th>\n",
       "      <th>duration</th>\n",
       "      <th>distance</th>\n",
       "      <th>started_at</th>\n",
       "      <th>trip_id</th>\n",
       "      <th>vehicle_id</th>\n",
       "      <th>city_id</th>\n",
       "      <th>type</th>\n",
       "      <th>distance_type</th>\n",
       "    </tr>\n",
       "  </thead>\n",
       "  <tbody>\n",
       "    <tr>\n",
       "      <td>0</td>\n",
       "      <td>857</td>\n",
       "      <td>5384</td>\n",
       "      <td>2016-10-03 13:00:00.286999941</td>\n",
       "      <td>c00cee6963e0dc66e50e271239426914</td>\n",
       "      <td>52d38cf1a3240d5cbdcf730f2d9a47d6</td>\n",
       "      <td>pentos</td>\n",
       "      <td>driving_to_destination</td>\n",
       "      <td>linear</td>\n",
       "    </tr>\n",
       "    <tr>\n",
       "      <td>1</td>\n",
       "      <td>245</td>\n",
       "      <td>1248</td>\n",
       "      <td>2016-10-03 13:00:00.852999926</td>\n",
       "      <td>427425e1f4318ca2461168bdd6e4fcbd</td>\n",
       "      <td>8336b28f24c3e7a1e3d582073b164895</td>\n",
       "      <td>volantis</td>\n",
       "      <td>going_to_pickup</td>\n",
       "      <td>road</td>\n",
       "    </tr>\n",
       "    <tr>\n",
       "      <td>2</td>\n",
       "      <td>1249</td>\n",
       "      <td>5847</td>\n",
       "      <td>2016-10-03 13:00:01.670000076</td>\n",
       "      <td>757867f6d7c00ef92a65bfaa3895943f</td>\n",
       "      <td>8885c59374cc539163e83f01ed59fd16</td>\n",
       "      <td>pentos</td>\n",
       "      <td>driving_to_destination</td>\n",
       "      <td>road</td>\n",
       "    </tr>\n",
       "    <tr>\n",
       "      <td>3</td>\n",
       "      <td>471</td>\n",
       "      <td>2585</td>\n",
       "      <td>2016-10-03 13:00:01.841000080</td>\n",
       "      <td>d09d1301d361f7359d0d936557d10f89</td>\n",
       "      <td>81b63920454f70b6755a494e3b28b3a7</td>\n",
       "      <td>bravos</td>\n",
       "      <td>going_to_pickup</td>\n",
       "      <td>linear</td>\n",
       "    </tr>\n",
       "    <tr>\n",
       "      <td>4</td>\n",
       "      <td>182</td>\n",
       "      <td>743</td>\n",
       "      <td>2016-10-03 13:00:01.970000029</td>\n",
       "      <td>00f20a701f0ec2519353ef3ffaf75068</td>\n",
       "      <td>b73030977cbad61c9db55418909864fa</td>\n",
       "      <td>pentos</td>\n",
       "      <td>going_to_pickup</td>\n",
       "      <td>road</td>\n",
       "    </tr>\n",
       "  </tbody>\n",
       "</table>\n",
       "</div>"
      ],
      "text/plain": [
       "  duration distance                    started_at  \\\n",
       "0      857     5384 2016-10-03 13:00:00.286999941   \n",
       "1      245     1248 2016-10-03 13:00:00.852999926   \n",
       "2     1249     5847 2016-10-03 13:00:01.670000076   \n",
       "3      471     2585 2016-10-03 13:00:01.841000080   \n",
       "4      182      743 2016-10-03 13:00:01.970000029   \n",
       "\n",
       "                            trip_id                        vehicle_id  \\\n",
       "0  c00cee6963e0dc66e50e271239426914  52d38cf1a3240d5cbdcf730f2d9a47d6   \n",
       "1  427425e1f4318ca2461168bdd6e4fcbd  8336b28f24c3e7a1e3d582073b164895   \n",
       "2  757867f6d7c00ef92a65bfaa3895943f  8885c59374cc539163e83f01ed59fd16   \n",
       "3  d09d1301d361f7359d0d936557d10f89  81b63920454f70b6755a494e3b28b3a7   \n",
       "4  00f20a701f0ec2519353ef3ffaf75068  b73030977cbad61c9db55418909864fa   \n",
       "\n",
       "    city_id                    type distance_type  \n",
       "0    pentos  driving_to_destination        linear  \n",
       "1  volantis         going_to_pickup          road  \n",
       "2    pentos  driving_to_destination          road  \n",
       "3    bravos         going_to_pickup        linear  \n",
       "4    pentos         going_to_pickup          road  "
      ]
     },
     "execution_count": 49,
     "metadata": {},
     "output_type": "execute_result"
    }
   ],
   "source": [
    "df.head()"
   ]
  },
  {
   "cell_type": "code",
   "execution_count": 50,
   "metadata": {},
   "outputs": [
    {
     "data": {
      "text/plain": [
       "road      93652\n",
       "linear    71518\n",
       "Name: distance_type, dtype: int64"
      ]
     },
     "execution_count": 50,
     "metadata": {},
     "output_type": "execute_result"
    }
   ],
   "source": [
    "# Have a look of their distribution\n",
    "\n",
    "df[\"distance_type\"].value_counts()"
   ]
  },
  {
   "cell_type": "markdown",
   "metadata": {},
   "source": [
    "### Extract only the \"going to pickup\"\n",
    "As the main question is about to study the difference of distance type between the pickup point and each of the available vehicles, I will first focus on only the type of \"going to pickup\""
   ]
  },
  {
   "cell_type": "code",
   "execution_count": 51,
   "metadata": {},
   "outputs": [
    {
     "data": {
      "text/plain": [
       "going_to_pickup           58510\n",
       "waiting_for_rider         53746\n",
       "driving_to_destination    52914\n",
       "Name: type, dtype: int64"
      ]
     },
     "execution_count": 51,
     "metadata": {},
     "output_type": "execute_result"
    }
   ],
   "source": [
    "# As usual, have a look of the number of each type\n",
    "\n",
    "df[\"type\"].value_counts()"
   ]
  },
  {
   "cell_type": "code",
   "execution_count": 52,
   "metadata": {},
   "outputs": [],
   "source": [
    "# Choose only the going to pickup type\n",
    "\n",
    "df_pickup = df[df[\"type\"] == \"going_to_pickup\"]"
   ]
  },
  {
   "cell_type": "code",
   "execution_count": 53,
   "metadata": {},
   "outputs": [
    {
     "data": {
      "text/html": [
       "<div>\n",
       "<style scoped>\n",
       "    .dataframe tbody tr th:only-of-type {\n",
       "        vertical-align: middle;\n",
       "    }\n",
       "\n",
       "    .dataframe tbody tr th {\n",
       "        vertical-align: top;\n",
       "    }\n",
       "\n",
       "    .dataframe thead th {\n",
       "        text-align: right;\n",
       "    }\n",
       "</style>\n",
       "<table border=\"1\" class=\"dataframe\">\n",
       "  <thead>\n",
       "    <tr style=\"text-align: right;\">\n",
       "      <th></th>\n",
       "      <th>duration</th>\n",
       "      <th>distance</th>\n",
       "      <th>started_at</th>\n",
       "      <th>trip_id</th>\n",
       "      <th>vehicle_id</th>\n",
       "      <th>city_id</th>\n",
       "      <th>type</th>\n",
       "      <th>distance_type</th>\n",
       "    </tr>\n",
       "  </thead>\n",
       "  <tbody>\n",
       "    <tr>\n",
       "      <td>count</td>\n",
       "      <td>58510</td>\n",
       "      <td>58510.0</td>\n",
       "      <td>58510</td>\n",
       "      <td>58510</td>\n",
       "      <td>58510</td>\n",
       "      <td>58510</td>\n",
       "      <td>58510</td>\n",
       "      <td>58510</td>\n",
       "    </tr>\n",
       "    <tr>\n",
       "      <td>unique</td>\n",
       "      <td>1851</td>\n",
       "      <td>4218.0</td>\n",
       "      <td>58488</td>\n",
       "      <td>58468</td>\n",
       "      <td>4745</td>\n",
       "      <td>3</td>\n",
       "      <td>1</td>\n",
       "      <td>2</td>\n",
       "    </tr>\n",
       "    <tr>\n",
       "      <td>top</td>\n",
       "      <td>NA</td>\n",
       "      <td>0.0</td>\n",
       "      <td>2016-10-03 23:23:35.987999916</td>\n",
       "      <td>afacd04e18402f482e950ecc17c9f998</td>\n",
       "      <td>a3e0ec5c6ea97b306dbe4fcabd47f2b5</td>\n",
       "      <td>pentos</td>\n",
       "      <td>going_to_pickup</td>\n",
       "      <td>road</td>\n",
       "    </tr>\n",
       "    <tr>\n",
       "      <td>freq</td>\n",
       "      <td>299</td>\n",
       "      <td>1421.0</td>\n",
       "      <td>2</td>\n",
       "      <td>9</td>\n",
       "      <td>58</td>\n",
       "      <td>40064</td>\n",
       "      <td>58510</td>\n",
       "      <td>33171</td>\n",
       "    </tr>\n",
       "    <tr>\n",
       "      <td>first</td>\n",
       "      <td>NaN</td>\n",
       "      <td>NaN</td>\n",
       "      <td>2016-10-03 13:00:00.852999926</td>\n",
       "      <td>NaN</td>\n",
       "      <td>NaN</td>\n",
       "      <td>NaN</td>\n",
       "      <td>NaN</td>\n",
       "      <td>NaN</td>\n",
       "    </tr>\n",
       "    <tr>\n",
       "      <td>last</td>\n",
       "      <td>NaN</td>\n",
       "      <td>NaN</td>\n",
       "      <td>2016-10-04 20:36:20.473999977</td>\n",
       "      <td>NaN</td>\n",
       "      <td>NaN</td>\n",
       "      <td>NaN</td>\n",
       "      <td>NaN</td>\n",
       "      <td>NaN</td>\n",
       "    </tr>\n",
       "  </tbody>\n",
       "</table>\n",
       "</div>"
      ],
      "text/plain": [
       "       duration  distance                     started_at  \\\n",
       "count     58510   58510.0                          58510   \n",
       "unique     1851    4218.0                          58488   \n",
       "top          NA       0.0  2016-10-03 23:23:35.987999916   \n",
       "freq        299    1421.0                              2   \n",
       "first       NaN       NaN  2016-10-03 13:00:00.852999926   \n",
       "last        NaN       NaN  2016-10-04 20:36:20.473999977   \n",
       "\n",
       "                                 trip_id                        vehicle_id  \\\n",
       "count                              58510                             58510   \n",
       "unique                             58468                              4745   \n",
       "top     afacd04e18402f482e950ecc17c9f998  a3e0ec5c6ea97b306dbe4fcabd47f2b5   \n",
       "freq                                   9                                58   \n",
       "first                                NaN                               NaN   \n",
       "last                                 NaN                               NaN   \n",
       "\n",
       "       city_id             type distance_type  \n",
       "count    58510            58510         58510  \n",
       "unique       3                1             2  \n",
       "top     pentos  going_to_pickup          road  \n",
       "freq     40064            58510         33171  \n",
       "first      NaN              NaN           NaN  \n",
       "last       NaN              NaN           NaN  "
      ]
     },
     "execution_count": 53,
     "metadata": {},
     "output_type": "execute_result"
    }
   ],
   "source": [
    "df_pickup.describe()"
   ]
  },
  {
   "cell_type": "markdown",
   "metadata": {},
   "source": [
    "It seems that the duration and distance columns have some string and their data types are not integer. I will change them here."
   ]
  },
  {
   "cell_type": "code",
   "execution_count": 54,
   "metadata": {},
   "outputs": [],
   "source": [
    "df_pickup[\"duration\"] = np.where(df_pickup[\"duration\"] == \"NA\", 0, df_pickup[\"duration\"])\n",
    "df_pickup[\"distance\"] = np.where(df_pickup[\"distance\"] == \"NA\", 0, df_pickup[\"distance\"])"
   ]
  },
  {
   "cell_type": "code",
   "execution_count": 55,
   "metadata": {},
   "outputs": [],
   "source": [
    "df_pickup[\"distance\"] = df_pickup[\"distance\"].astype(\"int\")\n",
    "df_pickup[\"duration\"] = df_pickup[\"duration\"].astype(\"int\")"
   ]
  },
  {
   "cell_type": "code",
   "execution_count": 56,
   "metadata": {},
   "outputs": [
    {
     "data": {
      "text/html": [
       "<div>\n",
       "<style scoped>\n",
       "    .dataframe tbody tr th:only-of-type {\n",
       "        vertical-align: middle;\n",
       "    }\n",
       "\n",
       "    .dataframe tbody tr th {\n",
       "        vertical-align: top;\n",
       "    }\n",
       "\n",
       "    .dataframe thead th {\n",
       "        text-align: right;\n",
       "    }\n",
       "</style>\n",
       "<table border=\"1\" class=\"dataframe\">\n",
       "  <thead>\n",
       "    <tr style=\"text-align: right;\">\n",
       "      <th></th>\n",
       "      <th>duration</th>\n",
       "      <th>distance</th>\n",
       "    </tr>\n",
       "  </thead>\n",
       "  <tbody>\n",
       "    <tr>\n",
       "      <td>count</td>\n",
       "      <td>58510.000000</td>\n",
       "      <td>5.851000e+04</td>\n",
       "    </tr>\n",
       "    <tr>\n",
       "      <td>mean</td>\n",
       "      <td>298.632559</td>\n",
       "      <td>9.794360e+02</td>\n",
       "    </tr>\n",
       "    <tr>\n",
       "      <td>std</td>\n",
       "      <td>291.058871</td>\n",
       "      <td>1.043448e+04</td>\n",
       "    </tr>\n",
       "    <tr>\n",
       "      <td>min</td>\n",
       "      <td>0.000000</td>\n",
       "      <td>0.000000e+00</td>\n",
       "    </tr>\n",
       "    <tr>\n",
       "      <td>25%</td>\n",
       "      <td>140.000000</td>\n",
       "      <td>3.040000e+02</td>\n",
       "    </tr>\n",
       "    <tr>\n",
       "      <td>50%</td>\n",
       "      <td>236.000000</td>\n",
       "      <td>6.280000e+02</td>\n",
       "    </tr>\n",
       "    <tr>\n",
       "      <td>75%</td>\n",
       "      <td>370.000000</td>\n",
       "      <td>1.067000e+03</td>\n",
       "    </tr>\n",
       "    <tr>\n",
       "      <td>max</td>\n",
       "      <td>9441.000000</td>\n",
       "      <td>1.218089e+06</td>\n",
       "    </tr>\n",
       "  </tbody>\n",
       "</table>\n",
       "</div>"
      ],
      "text/plain": [
       "           duration      distance\n",
       "count  58510.000000  5.851000e+04\n",
       "mean     298.632559  9.794360e+02\n",
       "std      291.058871  1.043448e+04\n",
       "min        0.000000  0.000000e+00\n",
       "25%      140.000000  3.040000e+02\n",
       "50%      236.000000  6.280000e+02\n",
       "75%      370.000000  1.067000e+03\n",
       "max     9441.000000  1.218089e+06"
      ]
     },
     "execution_count": 56,
     "metadata": {},
     "output_type": "execute_result"
    }
   ],
   "source": [
    "# Check if they are all as integer and also the description\n",
    "\n",
    "df_pickup.describe()"
   ]
  },
  {
   "cell_type": "code",
   "execution_count": 57,
   "metadata": {},
   "outputs": [],
   "source": [
    "# There are some cells with 0, in order to avoid the possible error cause by 0, \n",
    "# I create a df with no 0 in the duration and distance column\n",
    "\n",
    "df_pickup_no_zero = df_pickup.loc[(df_pickup[\"duration\"] != 0) & (df_pickup[\"distance\"] != 0)]"
   ]
  },
  {
   "cell_type": "code",
   "execution_count": 58,
   "metadata": {},
   "outputs": [
    {
     "name": "stdout",
     "output_type": "stream",
     "text": [
      "<class 'pandas.core.frame.DataFrame'>\n",
      "Int64Index: 56778 entries, 1 to 165111\n",
      "Data columns (total 8 columns):\n",
      "duration         56778 non-null int64\n",
      "distance         56778 non-null int64\n",
      "started_at       56778 non-null datetime64[ns]\n",
      "trip_id          56778 non-null object\n",
      "vehicle_id       56778 non-null object\n",
      "city_id          56778 non-null object\n",
      "type             56778 non-null object\n",
      "distance_type    56778 non-null object\n",
      "dtypes: datetime64[ns](1), int64(2), object(5)\n",
      "memory usage: 3.9+ MB\n"
     ]
    }
   ],
   "source": [
    "df_pickup_no_zero.info()"
   ]
  },
  {
   "cell_type": "code",
   "execution_count": 59,
   "metadata": {},
   "outputs": [],
   "source": [
    "# As there are some 0, I replace them as np.nan\n",
    "\n",
    "df_pickup_no_zero[\"speed\"] = (df_pickup_no_zero[\"distance\"]/df_pickup_no_zero[\"duration\"]).replace(np.inf, np.nan)"
   ]
  },
  {
   "cell_type": "code",
   "execution_count": 60,
   "metadata": {},
   "outputs": [
    {
     "data": {
      "text/html": [
       "<div>\n",
       "<style scoped>\n",
       "    .dataframe tbody tr th:only-of-type {\n",
       "        vertical-align: middle;\n",
       "    }\n",
       "\n",
       "    .dataframe tbody tr th {\n",
       "        vertical-align: top;\n",
       "    }\n",
       "\n",
       "    .dataframe thead th {\n",
       "        text-align: right;\n",
       "    }\n",
       "</style>\n",
       "<table border=\"1\" class=\"dataframe\">\n",
       "  <thead>\n",
       "    <tr style=\"text-align: right;\">\n",
       "      <th></th>\n",
       "      <th>duration</th>\n",
       "      <th>distance</th>\n",
       "      <th>started_at</th>\n",
       "      <th>trip_id</th>\n",
       "      <th>vehicle_id</th>\n",
       "      <th>city_id</th>\n",
       "      <th>type</th>\n",
       "      <th>distance_type</th>\n",
       "      <th>speed</th>\n",
       "    </tr>\n",
       "  </thead>\n",
       "  <tbody>\n",
       "    <tr>\n",
       "      <td>1</td>\n",
       "      <td>245</td>\n",
       "      <td>1248</td>\n",
       "      <td>2016-10-03 13:00:00.852999926</td>\n",
       "      <td>427425e1f4318ca2461168bdd6e4fcbd</td>\n",
       "      <td>8336b28f24c3e7a1e3d582073b164895</td>\n",
       "      <td>volantis</td>\n",
       "      <td>going_to_pickup</td>\n",
       "      <td>road</td>\n",
       "      <td>5.093878</td>\n",
       "    </tr>\n",
       "    <tr>\n",
       "      <td>3</td>\n",
       "      <td>471</td>\n",
       "      <td>2585</td>\n",
       "      <td>2016-10-03 13:00:01.841000080</td>\n",
       "      <td>d09d1301d361f7359d0d936557d10f89</td>\n",
       "      <td>81b63920454f70b6755a494e3b28b3a7</td>\n",
       "      <td>bravos</td>\n",
       "      <td>going_to_pickup</td>\n",
       "      <td>linear</td>\n",
       "      <td>5.488323</td>\n",
       "    </tr>\n",
       "    <tr>\n",
       "      <td>4</td>\n",
       "      <td>182</td>\n",
       "      <td>743</td>\n",
       "      <td>2016-10-03 13:00:01.970000029</td>\n",
       "      <td>00f20a701f0ec2519353ef3ffaf75068</td>\n",
       "      <td>b73030977cbad61c9db55418909864fa</td>\n",
       "      <td>pentos</td>\n",
       "      <td>going_to_pickup</td>\n",
       "      <td>road</td>\n",
       "      <td>4.082418</td>\n",
       "    </tr>\n",
       "    <tr>\n",
       "      <td>5</td>\n",
       "      <td>599</td>\n",
       "      <td>1351</td>\n",
       "      <td>2016-10-03 13:00:02.154000044</td>\n",
       "      <td>158e7bc8d42e1d8c94767b00c8f89568</td>\n",
       "      <td>126e868fb282852c2fa95d88878686bf</td>\n",
       "      <td>volantis</td>\n",
       "      <td>going_to_pickup</td>\n",
       "      <td>road</td>\n",
       "      <td>2.255426</td>\n",
       "    </tr>\n",
       "    <tr>\n",
       "      <td>9</td>\n",
       "      <td>1525</td>\n",
       "      <td>2674</td>\n",
       "      <td>2016-10-03 13:00:05.637000084</td>\n",
       "      <td>d3e6e8fb50c02d66feca2c60830c4fcc</td>\n",
       "      <td>b0906e917dc5cc0bcba190fd80079a74</td>\n",
       "      <td>bravos</td>\n",
       "      <td>going_to_pickup</td>\n",
       "      <td>linear</td>\n",
       "      <td>1.753443</td>\n",
       "    </tr>\n",
       "  </tbody>\n",
       "</table>\n",
       "</div>"
      ],
      "text/plain": [
       "   duration  distance                    started_at  \\\n",
       "1       245      1248 2016-10-03 13:00:00.852999926   \n",
       "3       471      2585 2016-10-03 13:00:01.841000080   \n",
       "4       182       743 2016-10-03 13:00:01.970000029   \n",
       "5       599      1351 2016-10-03 13:00:02.154000044   \n",
       "9      1525      2674 2016-10-03 13:00:05.637000084   \n",
       "\n",
       "                            trip_id                        vehicle_id  \\\n",
       "1  427425e1f4318ca2461168bdd6e4fcbd  8336b28f24c3e7a1e3d582073b164895   \n",
       "3  d09d1301d361f7359d0d936557d10f89  81b63920454f70b6755a494e3b28b3a7   \n",
       "4  00f20a701f0ec2519353ef3ffaf75068  b73030977cbad61c9db55418909864fa   \n",
       "5  158e7bc8d42e1d8c94767b00c8f89568  126e868fb282852c2fa95d88878686bf   \n",
       "9  d3e6e8fb50c02d66feca2c60830c4fcc  b0906e917dc5cc0bcba190fd80079a74   \n",
       "\n",
       "    city_id             type distance_type     speed  \n",
       "1  volantis  going_to_pickup          road  5.093878  \n",
       "3    bravos  going_to_pickup        linear  5.488323  \n",
       "4    pentos  going_to_pickup          road  4.082418  \n",
       "5  volantis  going_to_pickup          road  2.255426  \n",
       "9    bravos  going_to_pickup        linear  1.753443  "
      ]
     },
     "execution_count": 60,
     "metadata": {},
     "output_type": "execute_result"
    }
   ],
   "source": [
    "df_pickup_no_zero.head()"
   ]
  },
  {
   "cell_type": "markdown",
   "metadata": {},
   "source": [
    "### Test with data without clean the outlier"
   ]
  },
  {
   "cell_type": "code",
   "execution_count": 86,
   "metadata": {},
   "outputs": [
    {
     "data": {
      "text/html": [
       "<div>\n",
       "<style scoped>\n",
       "    .dataframe tbody tr th:only-of-type {\n",
       "        vertical-align: middle;\n",
       "    }\n",
       "\n",
       "    .dataframe tbody tr th {\n",
       "        vertical-align: top;\n",
       "    }\n",
       "\n",
       "    .dataframe thead th {\n",
       "        text-align: right;\n",
       "    }\n",
       "</style>\n",
       "<table border=\"1\" class=\"dataframe\">\n",
       "  <thead>\n",
       "    <tr style=\"text-align: right;\">\n",
       "      <th></th>\n",
       "      <th></th>\n",
       "      <th>avg_duration</th>\n",
       "      <th>std_duration</th>\n",
       "      <th>avg_distance</th>\n",
       "      <th>std_distance</th>\n",
       "      <th>avg_speed</th>\n",
       "      <th>std_speed</th>\n",
       "    </tr>\n",
       "    <tr>\n",
       "      <th>city_id</th>\n",
       "      <th>distance_type</th>\n",
       "      <th></th>\n",
       "      <th></th>\n",
       "      <th></th>\n",
       "      <th></th>\n",
       "      <th></th>\n",
       "      <th></th>\n",
       "    </tr>\n",
       "  </thead>\n",
       "  <tbody>\n",
       "    <tr>\n",
       "      <td rowspan=\"2\" valign=\"top\">bravos</td>\n",
       "      <td>linear</td>\n",
       "      <td>586.286722</td>\n",
       "      <td>466.236844</td>\n",
       "      <td>3180.914523</td>\n",
       "      <td>29371.779010</td>\n",
       "      <td>403.336240</td>\n",
       "      <td>18166.192726</td>\n",
       "    </tr>\n",
       "    <tr>\n",
       "      <td>road</td>\n",
       "      <td>610.236369</td>\n",
       "      <td>527.761864</td>\n",
       "      <td>3217.240151</td>\n",
       "      <td>35853.712841</td>\n",
       "      <td>108.180565</td>\n",
       "      <td>3927.682326</td>\n",
       "    </tr>\n",
       "    <tr>\n",
       "      <td rowspan=\"2\" valign=\"top\">pentos</td>\n",
       "      <td>linear</td>\n",
       "      <td>257.982051</td>\n",
       "      <td>202.439127</td>\n",
       "      <td>715.782793</td>\n",
       "      <td>694.151164</td>\n",
       "      <td>4.186768</td>\n",
       "      <td>37.457206</td>\n",
       "    </tr>\n",
       "    <tr>\n",
       "      <td>road</td>\n",
       "      <td>257.246824</td>\n",
       "      <td>192.097108</td>\n",
       "      <td>743.383031</td>\n",
       "      <td>2641.254816</td>\n",
       "      <td>4.550042</td>\n",
       "      <td>45.970079</td>\n",
       "    </tr>\n",
       "    <tr>\n",
       "      <td rowspan=\"2\" valign=\"top\">volantis</td>\n",
       "      <td>linear</td>\n",
       "      <td>334.159314</td>\n",
       "      <td>334.964468</td>\n",
       "      <td>894.552495</td>\n",
       "      <td>1103.890050</td>\n",
       "      <td>5.636464</td>\n",
       "      <td>47.644139</td>\n",
       "    </tr>\n",
       "    <tr>\n",
       "      <td>road</td>\n",
       "      <td>325.768756</td>\n",
       "      <td>324.920900</td>\n",
       "      <td>894.336394</td>\n",
       "      <td>1445.740442</td>\n",
       "      <td>5.410227</td>\n",
       "      <td>48.385069</td>\n",
       "    </tr>\n",
       "  </tbody>\n",
       "</table>\n",
       "</div>"
      ],
      "text/plain": [
       "                        avg_duration  std_duration  avg_distance  \\\n",
       "city_id  distance_type                                             \n",
       "bravos   linear           586.286722    466.236844   3180.914523   \n",
       "         road             610.236369    527.761864   3217.240151   \n",
       "pentos   linear           257.982051    202.439127    715.782793   \n",
       "         road             257.246824    192.097108    743.383031   \n",
       "volantis linear           334.159314    334.964468    894.552495   \n",
       "         road             325.768756    324.920900    894.336394   \n",
       "\n",
       "                        std_distance   avg_speed     std_speed  \n",
       "city_id  distance_type                                          \n",
       "bravos   linear         29371.779010  403.336240  18166.192726  \n",
       "         road           35853.712841  108.180565   3927.682326  \n",
       "pentos   linear           694.151164    4.186768     37.457206  \n",
       "         road            2641.254816    4.550042     45.970079  \n",
       "volantis linear          1103.890050    5.636464     47.644139  \n",
       "         road            1445.740442    5.410227     48.385069  "
      ]
     },
     "execution_count": 86,
     "metadata": {},
     "output_type": "execute_result"
    }
   ],
   "source": [
    "df_pickup_no_zero.groupby([\"city_id\", \"distance_type\"]).agg(avg_duration = (\"duration\", \"mean\"),\n",
    "                                                            std_duration = (\"duration\", np.std),\n",
    "                                                            avg_distance = (\"distance\", \"mean\"),\n",
    "                                                            std_distance = (\"distance\", np.std),\n",
    "                                                            avg_speed = (\"speed\", \"mean\"),\n",
    "                                                            std_speed = (\"speed\", np.std))"
   ]
  },
  {
   "cell_type": "markdown",
   "metadata": {},
   "source": [
    "By looking at the average speed it seems that there is a difference between the distance type, but the standard deviation is pretty high. Os I think it would be better to clean the outlier"
   ]
  },
  {
   "cell_type": "markdown",
   "metadata": {},
   "source": [
    "### Test with data without outlier (data with z score lower than 2)"
   ]
  },
  {
   "cell_type": "code",
   "execution_count": 61,
   "metadata": {},
   "outputs": [],
   "source": [
    "# There are some values way too high, I treat them as outlier (z score > 3) and will not use them in the analysis\n",
    "\n",
    "#df_clean = df_pickup_no_zero[(np.abs(stats.zscore(df_pickup_no_zero))<3).all(axis=1)]\n",
    "\n",
    "df_pickup_no_zero[\"duration_z\"] = np.abs(stats.zscore(df_pickup_no_zero[\"duration\"]))\n",
    "df_pickup_no_zero[\"distance_z\"] = np.abs(stats.zscore(df_pickup_no_zero[\"distance\"]))\n"
   ]
  },
  {
   "cell_type": "code",
   "execution_count": 63,
   "metadata": {},
   "outputs": [
    {
     "data": {
      "text/html": [
       "<div>\n",
       "<style scoped>\n",
       "    .dataframe tbody tr th:only-of-type {\n",
       "        vertical-align: middle;\n",
       "    }\n",
       "\n",
       "    .dataframe tbody tr th {\n",
       "        vertical-align: top;\n",
       "    }\n",
       "\n",
       "    .dataframe thead th {\n",
       "        text-align: right;\n",
       "    }\n",
       "</style>\n",
       "<table border=\"1\" class=\"dataframe\">\n",
       "  <thead>\n",
       "    <tr style=\"text-align: right;\">\n",
       "      <th></th>\n",
       "      <th>duration</th>\n",
       "      <th>distance</th>\n",
       "      <th>speed</th>\n",
       "      <th>duration_z</th>\n",
       "      <th>distance_z</th>\n",
       "    </tr>\n",
       "  </thead>\n",
       "  <tbody>\n",
       "    <tr>\n",
       "      <td>count</td>\n",
       "      <td>56778.000000</td>\n",
       "      <td>5.677800e+04</td>\n",
       "      <td>56778.000000</td>\n",
       "      <td>56778.000000</td>\n",
       "      <td>56778.000000</td>\n",
       "    </tr>\n",
       "    <tr>\n",
       "      <td>mean</td>\n",
       "      <td>306.604583</td>\n",
       "      <td>1.009190e+03</td>\n",
       "      <td>27.364464</td>\n",
       "      <td>0.600118</td>\n",
       "      <td>0.072133</td>\n",
       "    </tr>\n",
       "    <tr>\n",
       "      <td>std</td>\n",
       "      <td>291.255381</td>\n",
       "      <td>1.059102e+04</td>\n",
       "      <td>3856.486374</td>\n",
       "      <td>0.799919</td>\n",
       "      <td>0.997404</td>\n",
       "    </tr>\n",
       "    <tr>\n",
       "      <td>min</td>\n",
       "      <td>1.000000</td>\n",
       "      <td>1.000000e+00</td>\n",
       "      <td>0.000257</td>\n",
       "      <td>0.001358</td>\n",
       "      <td>0.000018</td>\n",
       "    </tr>\n",
       "    <tr>\n",
       "      <td>25%</td>\n",
       "      <td>147.000000</td>\n",
       "      <td>3.330000e+02</td>\n",
       "      <td>1.756375</td>\n",
       "      <td>0.228683</td>\n",
       "      <td>0.025003</td>\n",
       "    </tr>\n",
       "    <tr>\n",
       "      <td>50%</td>\n",
       "      <td>241.000000</td>\n",
       "      <td>6.500000e+02</td>\n",
       "      <td>2.612635</td>\n",
       "      <td>0.458006</td>\n",
       "      <td>0.049778</td>\n",
       "    </tr>\n",
       "    <tr>\n",
       "      <td>75%</td>\n",
       "      <td>376.000000</td>\n",
       "      <td>1.086000e+03</td>\n",
       "      <td>3.658287</td>\n",
       "      <td>0.716232</td>\n",
       "      <td>0.074516</td>\n",
       "    </tr>\n",
       "    <tr>\n",
       "      <td>max</td>\n",
       "      <td>9441.000000</td>\n",
       "      <td>1.218089e+06</td>\n",
       "      <td>890705.000000</td>\n",
       "      <td>31.362428</td>\n",
       "      <td>114.917173</td>\n",
       "    </tr>\n",
       "  </tbody>\n",
       "</table>\n",
       "</div>"
      ],
      "text/plain": [
       "           duration      distance          speed    duration_z    distance_z\n",
       "count  56778.000000  5.677800e+04   56778.000000  56778.000000  56778.000000\n",
       "mean     306.604583  1.009190e+03      27.364464      0.600118      0.072133\n",
       "std      291.255381  1.059102e+04    3856.486374      0.799919      0.997404\n",
       "min        1.000000  1.000000e+00       0.000257      0.001358      0.000018\n",
       "25%      147.000000  3.330000e+02       1.756375      0.228683      0.025003\n",
       "50%      241.000000  6.500000e+02       2.612635      0.458006      0.049778\n",
       "75%      376.000000  1.086000e+03       3.658287      0.716232      0.074516\n",
       "max     9441.000000  1.218089e+06  890705.000000     31.362428    114.917173"
      ]
     },
     "execution_count": 63,
     "metadata": {},
     "output_type": "execute_result"
    }
   ],
   "source": [
    "df_pickup_no_zero.describe()"
   ]
  },
  {
   "cell_type": "code",
   "execution_count": 116,
   "metadata": {},
   "outputs": [],
   "source": [
    "df_clean = df_pickup_no_zero[(df_pickup_no_zero[\"duration_z\"] < 2) & (df_pickup_no_zero[\"distance_z\"] < 2)]"
   ]
  },
  {
   "cell_type": "code",
   "execution_count": 117,
   "metadata": {},
   "outputs": [
    {
     "data": {
      "text/html": [
       "<div>\n",
       "<style scoped>\n",
       "    .dataframe tbody tr th:only-of-type {\n",
       "        vertical-align: middle;\n",
       "    }\n",
       "\n",
       "    .dataframe tbody tr th {\n",
       "        vertical-align: top;\n",
       "    }\n",
       "\n",
       "    .dataframe thead th {\n",
       "        text-align: right;\n",
       "    }\n",
       "</style>\n",
       "<table border=\"1\" class=\"dataframe\">\n",
       "  <thead>\n",
       "    <tr style=\"text-align: right;\">\n",
       "      <th></th>\n",
       "      <th>duration</th>\n",
       "      <th>distance</th>\n",
       "      <th>speed</th>\n",
       "      <th>duration_z</th>\n",
       "      <th>distance_z</th>\n",
       "    </tr>\n",
       "  </thead>\n",
       "  <tbody>\n",
       "    <tr>\n",
       "      <td>count</td>\n",
       "      <td>54959.000000</td>\n",
       "      <td>54959.000000</td>\n",
       "      <td>54959.000000</td>\n",
       "      <td>54959.000000</td>\n",
       "      <td>54959.000000</td>\n",
       "    </tr>\n",
       "    <tr>\n",
       "      <td>mean</td>\n",
       "      <td>268.747266</td>\n",
       "      <td>796.315180</td>\n",
       "      <td>5.269636</td>\n",
       "      <td>0.489744</td>\n",
       "      <td>0.054146</td>\n",
       "    </tr>\n",
       "    <tr>\n",
       "      <td>std</td>\n",
       "      <td>170.772273</td>\n",
       "      <td>796.129588</td>\n",
       "      <td>46.537663</td>\n",
       "      <td>0.347610</td>\n",
       "      <td>0.055882</td>\n",
       "    </tr>\n",
       "    <tr>\n",
       "      <td>min</td>\n",
       "      <td>1.000000</td>\n",
       "      <td>1.000000</td>\n",
       "      <td>0.001908</td>\n",
       "      <td>0.001358</td>\n",
       "      <td>0.000018</td>\n",
       "    </tr>\n",
       "    <tr>\n",
       "      <td>25%</td>\n",
       "      <td>144.000000</td>\n",
       "      <td>323.000000</td>\n",
       "      <td>1.774805</td>\n",
       "      <td>0.221816</td>\n",
       "      <td>0.024473</td>\n",
       "    </tr>\n",
       "    <tr>\n",
       "      <td>50%</td>\n",
       "      <td>235.000000</td>\n",
       "      <td>629.000000</td>\n",
       "      <td>2.626168</td>\n",
       "      <td>0.441557</td>\n",
       "      <td>0.048797</td>\n",
       "    </tr>\n",
       "    <tr>\n",
       "      <td>75%</td>\n",
       "      <td>358.000000</td>\n",
       "      <td>1038.000000</td>\n",
       "      <td>3.673619</td>\n",
       "      <td>0.688046</td>\n",
       "      <td>0.072911</td>\n",
       "    </tr>\n",
       "    <tr>\n",
       "      <td>max</td>\n",
       "      <td>889.000000</td>\n",
       "      <td>21705.000000</td>\n",
       "      <td>3349.000000</td>\n",
       "      <td>1.999622</td>\n",
       "      <td>1.954107</td>\n",
       "    </tr>\n",
       "  </tbody>\n",
       "</table>\n",
       "</div>"
      ],
      "text/plain": [
       "           duration      distance         speed    duration_z    distance_z\n",
       "count  54959.000000  54959.000000  54959.000000  54959.000000  54959.000000\n",
       "mean     268.747266    796.315180      5.269636      0.489744      0.054146\n",
       "std      170.772273    796.129588     46.537663      0.347610      0.055882\n",
       "min        1.000000      1.000000      0.001908      0.001358      0.000018\n",
       "25%      144.000000    323.000000      1.774805      0.221816      0.024473\n",
       "50%      235.000000    629.000000      2.626168      0.441557      0.048797\n",
       "75%      358.000000   1038.000000      3.673619      0.688046      0.072911\n",
       "max      889.000000  21705.000000   3349.000000      1.999622      1.954107"
      ]
     },
     "execution_count": 117,
     "metadata": {},
     "output_type": "execute_result"
    }
   ],
   "source": [
    "df_clean.describe()"
   ]
  },
  {
   "cell_type": "code",
   "execution_count": 118,
   "metadata": {},
   "outputs": [],
   "source": [
    "df_clean = df_clean.drop(columns = [\"duration_z\", \"distance_z\"])"
   ]
  },
  {
   "cell_type": "markdown",
   "metadata": {},
   "source": [
    "Now the data should be basically clean, let's have a look of the descriptive result"
   ]
  },
  {
   "cell_type": "code",
   "execution_count": 119,
   "metadata": {
    "scrolled": true
   },
   "outputs": [
    {
     "data": {
      "text/html": [
       "<div>\n",
       "<style scoped>\n",
       "    .dataframe tbody tr th:only-of-type {\n",
       "        vertical-align: middle;\n",
       "    }\n",
       "\n",
       "    .dataframe tbody tr th {\n",
       "        vertical-align: top;\n",
       "    }\n",
       "\n",
       "    .dataframe thead th {\n",
       "        text-align: right;\n",
       "    }\n",
       "</style>\n",
       "<table border=\"1\" class=\"dataframe\">\n",
       "  <thead>\n",
       "    <tr style=\"text-align: right;\">\n",
       "      <th></th>\n",
       "      <th></th>\n",
       "      <th>avg_duration</th>\n",
       "      <th>std_duration</th>\n",
       "      <th>avg_distance</th>\n",
       "      <th>std_distance</th>\n",
       "      <th>avg_speed</th>\n",
       "      <th>std_speed</th>\n",
       "    </tr>\n",
       "    <tr>\n",
       "      <th>city_id</th>\n",
       "      <th>distance_type</th>\n",
       "      <th></th>\n",
       "      <th></th>\n",
       "      <th></th>\n",
       "      <th></th>\n",
       "      <th></th>\n",
       "      <th></th>\n",
       "    </tr>\n",
       "  </thead>\n",
       "  <tbody>\n",
       "    <tr>\n",
       "      <td rowspan=\"2\" valign=\"top\">bravos</td>\n",
       "      <td>linear</td>\n",
       "      <td>416.589692</td>\n",
       "      <td>222.105836</td>\n",
       "      <td>1569.552804</td>\n",
       "      <td>1338.377375</td>\n",
       "      <td>13.078349</td>\n",
       "      <td>96.559090</td>\n",
       "    </tr>\n",
       "    <tr>\n",
       "      <td>road</td>\n",
       "      <td>413.614076</td>\n",
       "      <td>222.069279</td>\n",
       "      <td>1584.935808</td>\n",
       "      <td>1349.507758</td>\n",
       "      <td>12.381194</td>\n",
       "      <td>81.009602</td>\n",
       "    </tr>\n",
       "    <tr>\n",
       "      <td rowspan=\"2\" valign=\"top\">pentos</td>\n",
       "      <td>linear</td>\n",
       "      <td>247.279287</td>\n",
       "      <td>151.301983</td>\n",
       "      <td>694.539970</td>\n",
       "      <td>585.265111</td>\n",
       "      <td>4.207843</td>\n",
       "      <td>37.642811</td>\n",
       "    </tr>\n",
       "    <tr>\n",
       "      <td>road</td>\n",
       "      <td>247.350424</td>\n",
       "      <td>152.720355</td>\n",
       "      <td>703.899885</td>\n",
       "      <td>627.676510</td>\n",
       "      <td>4.344857</td>\n",
       "      <td>37.929794</td>\n",
       "    </tr>\n",
       "    <tr>\n",
       "      <td rowspan=\"2\" valign=\"top\">volantis</td>\n",
       "      <td>linear</td>\n",
       "      <td>286.291192</td>\n",
       "      <td>178.615643</td>\n",
       "      <td>822.330937</td>\n",
       "      <td>895.746395</td>\n",
       "      <td>5.773342</td>\n",
       "      <td>48.504985</td>\n",
       "    </tr>\n",
       "    <tr>\n",
       "      <td>road</td>\n",
       "      <td>279.603236</td>\n",
       "      <td>174.972394</td>\n",
       "      <td>800.688140</td>\n",
       "      <td>865.806918</td>\n",
       "      <td>5.519300</td>\n",
       "      <td>49.212527</td>\n",
       "    </tr>\n",
       "  </tbody>\n",
       "</table>\n",
       "</div>"
      ],
      "text/plain": [
       "                        avg_duration  std_duration  avg_distance  \\\n",
       "city_id  distance_type                                             \n",
       "bravos   linear           416.589692    222.105836   1569.552804   \n",
       "         road             413.614076    222.069279   1584.935808   \n",
       "pentos   linear           247.279287    151.301983    694.539970   \n",
       "         road             247.350424    152.720355    703.899885   \n",
       "volantis linear           286.291192    178.615643    822.330937   \n",
       "         road             279.603236    174.972394    800.688140   \n",
       "\n",
       "                        std_distance  avg_speed  std_speed  \n",
       "city_id  distance_type                                      \n",
       "bravos   linear          1338.377375  13.078349  96.559090  \n",
       "         road            1349.507758  12.381194  81.009602  \n",
       "pentos   linear           585.265111   4.207843  37.642811  \n",
       "         road             627.676510   4.344857  37.929794  \n",
       "volantis linear           895.746395   5.773342  48.504985  \n",
       "         road             865.806918   5.519300  49.212527  "
      ]
     },
     "execution_count": 119,
     "metadata": {},
     "output_type": "execute_result"
    }
   ],
   "source": [
    "df_clean.groupby([\"city_id\", \"distance_type\"]).agg(avg_duration = (\"duration\", \"mean\"),\n",
    "                                                   std_duration = (\"duration\", np.std),\n",
    "                                                   avg_distance = (\"distance\", \"mean\"),\n",
    "                                                   std_distance = (\"distance\", np.std),\n",
    "                                                   avg_speed = (\"speed\", \"mean\"),\n",
    "                                                   std_speed = (\"speed\", np.std))"
   ]
  },
  {
   "cell_type": "markdown",
   "metadata": {},
   "source": [
    "We can see that there is a difference between the average speed between distance type, but it needs a statistic examination"
   ]
  },
  {
   "cell_type": "markdown",
   "metadata": {},
   "source": [
    "#### t test for speed between distance type"
   ]
  },
  {
   "cell_type": "code",
   "execution_count": 120,
   "metadata": {},
   "outputs": [],
   "source": [
    "# Select only speed to see if their t values are significant different or not\n",
    "\n",
    "bravos_linear_speed = df_clean[(df_clean[\"city_id\"] == \"bravos\") & (df_clean[\"distance_type\"] == \"linear\")][\"speed\"]\n",
    "bravos_road_speed = df_clean[(df_clean[\"city_id\"] == \"bravos\") & (df_clean[\"distance_type\"] == \"road\")][\"speed\"]\n",
    "pentos_linear_speed = df_clean[(df_clean[\"city_id\"] == \"pentos\") & (df_clean[\"distance_type\"] == \"linear\")][\"speed\"]\n",
    "pentos_road_speed = df_clean[(df_clean[\"city_id\"] == \"pentos\") & (df_clean[\"distance_type\"] == \"road\")][\"speed\"]\n",
    "volantis_linear_speed = df_clean[(df_clean[\"city_id\"] == \"volantis\") & (df_clean[\"distance_type\"] == \"linear\")][\"speed\"]\n",
    "volantis_road_speed = df_clean[(df_clean[\"city_id\"] == \"volantis\") & (df_clean[\"distance_type\"] == \"road\")][\"speed\"]"
   ]
  },
  {
   "cell_type": "code",
   "execution_count": 121,
   "metadata": {},
   "outputs": [
    {
     "data": {
      "text/plain": [
       "Ttest_indResult(statistic=0.2649905909735789, pvalue=0.7910286795175048)"
      ]
     },
     "execution_count": 121,
     "metadata": {},
     "output_type": "execute_result"
    }
   ],
   "source": [
    "# t test of speed between linear distance type and road distance type in Bravos\n",
    "stats.ttest_ind(bravos_linear_speed, bravos_road_speed)"
   ]
  },
  {
   "cell_type": "code",
   "execution_count": 122,
   "metadata": {},
   "outputs": [
    {
     "data": {
      "text/plain": [
       "Ttest_indResult(statistic=-0.35326078691397506, pvalue=0.7238948669964911)"
      ]
     },
     "execution_count": 122,
     "metadata": {},
     "output_type": "execute_result"
    }
   ],
   "source": [
    "# t test of speed between linear distance type and road distance type in Pentos\n",
    "stats.ttest_ind(pentos_linear_speed, pentos_road_speed)"
   ]
  },
  {
   "cell_type": "code",
   "execution_count": 123,
   "metadata": {},
   "outputs": [
    {
     "data": {
      "text/plain": [
       "Ttest_indResult(statistic=0.27835752317486273, pvalue=0.7807428244306753)"
      ]
     },
     "execution_count": 123,
     "metadata": {},
     "output_type": "execute_result"
    }
   ],
   "source": [
    "# t test of speed between linear distance type and road distance type in Volantis\n",
    "stats.ttest_ind(volantis_linear_speed, volantis_road_speed)"
   ]
  },
  {
   "cell_type": "markdown",
   "metadata": {},
   "source": [
    "#### t test for duration between distance type"
   ]
  },
  {
   "cell_type": "code",
   "execution_count": 124,
   "metadata": {},
   "outputs": [],
   "source": [
    "# Select only duration to see if their t values are significant different or not\n",
    "\n",
    "bravos_linear_duration = df_clean[(df_clean[\"city_id\"] == \"bravos\") & (df_clean[\"distance_type\"] == \"linear\")][\"duration\"]\n",
    "bravos_road_duration = df_clean[(df_clean[\"city_id\"] == \"bravos\") & (df_clean[\"distance_type\"] == \"road\")][\"duration\"]\n",
    "pentos_linear_duration = df_clean[(df_clean[\"city_id\"] == \"pentos\") & (df_clean[\"distance_type\"] == \"linear\")][\"duration\"]\n",
    "pentos_road_duration = df_clean[(df_clean[\"city_id\"] == \"pentos\") & (df_clean[\"distance_type\"] == \"road\")][\"duration\"]\n",
    "volantis_linear_duration = df_clean[(df_clean[\"city_id\"] == \"volantis\") & (df_clean[\"distance_type\"] == \"linear\")][\"duration\"]\n",
    "volantis_road_duration = df_clean[(df_clean[\"city_id\"] == \"volantis\") & (df_clean[\"distance_type\"] == \"road\")][\"duration\"]\n"
   ]
  },
  {
   "cell_type": "code",
   "execution_count": 125,
   "metadata": {},
   "outputs": [
    {
     "data": {
      "text/plain": [
       "Ttest_indResult(statistic=0.4486153947690732, pvalue=0.6537304285180139)"
      ]
     },
     "execution_count": 125,
     "metadata": {},
     "output_type": "execute_result"
    }
   ],
   "source": [
    "# t test of duration between linear distance type and road distance type in Bravos\n",
    "stats.ttest_ind(bravos_linear_duration, bravos_road_duration)"
   ]
  },
  {
   "cell_type": "code",
   "execution_count": 126,
   "metadata": {},
   "outputs": [
    {
     "data": {
      "text/plain": [
       "Ttest_indResult(statistic=-0.04558621947898559, pvalue=0.9636402885407571)"
      ]
     },
     "execution_count": 126,
     "metadata": {},
     "output_type": "execute_result"
    }
   ],
   "source": [
    "# t test of duration between linear distance type and road distance type in Pentos\n",
    "stats.ttest_ind(pentos_linear_duration, pentos_road_duration)"
   ]
  },
  {
   "cell_type": "code",
   "execution_count": 127,
   "metadata": {},
   "outputs": [
    {
     "data": {
      "text/plain": [
       "Ttest_indResult(statistic=2.030378910328929, pvalue=0.04234053110448333)"
      ]
     },
     "execution_count": 127,
     "metadata": {},
     "output_type": "execute_result"
    }
   ],
   "source": [
    "# t test of duration between linear distance type and road distance type in Volantis\n",
    "stats.ttest_ind(volantis_linear_duration, volantis_road_duration)"
   ]
  },
  {
   "cell_type": "markdown",
   "metadata": {},
   "source": [
    "#### t test for distance between distance type"
   ]
  },
  {
   "cell_type": "code",
   "execution_count": 128,
   "metadata": {},
   "outputs": [],
   "source": [
    "# Select only distance to see if their t values are significant different or not\n",
    "\n",
    "bravos_linear_distance = df_clean[(df_clean[\"city_id\"] == \"bravos\") & (df_clean[\"distance_type\"] == \"linear\")][\"distance\"]\n",
    "bravos_road_distance = df_clean[(df_clean[\"city_id\"] == \"bravos\") & (df_clean[\"distance_type\"] == \"road\")][\"distance\"]\n",
    "pentos_linear_distance = df_clean[(df_clean[\"city_id\"] == \"pentos\") & (df_clean[\"distance_type\"] == \"linear\")][\"distance\"]\n",
    "pentos_road_distance = df_clean[(df_clean[\"city_id\"] == \"pentos\") & (df_clean[\"distance_type\"] == \"road\")][\"distance\"]\n",
    "volantis_linear_distance = df_clean[(df_clean[\"city_id\"] == \"volantis\") & (df_clean[\"distance_type\"] == \"linear\")][\"distance\"]\n",
    "volantis_road_distance = df_clean[(df_clean[\"city_id\"] == \"volantis\") & (df_clean[\"distance_type\"] == \"road\")][\"distance\"]\n"
   ]
  },
  {
   "cell_type": "code",
   "execution_count": 129,
   "metadata": {},
   "outputs": [
    {
     "data": {
      "text/plain": [
       "Ttest_indResult(statistic=-0.3830314033307804, pvalue=0.7017143220875572)"
      ]
     },
     "execution_count": 129,
     "metadata": {},
     "output_type": "execute_result"
    }
   ],
   "source": [
    "# t test of distance between linear distance type and road distance type in Bravos\n",
    "stats.ttest_ind(bravos_linear_distance, bravos_road_distance)"
   ]
  },
  {
   "cell_type": "code",
   "execution_count": 130,
   "metadata": {},
   "outputs": [
    {
     "data": {
      "text/plain": [
       "Ttest_indResult(statistic=-1.4966602718476627, pvalue=0.13448984459381275)"
      ]
     },
     "execution_count": 130,
     "metadata": {},
     "output_type": "execute_result"
    }
   ],
   "source": [
    "# t test of distance between linear distance type and road distance type in Pentos\n",
    "stats.ttest_ind(pentos_linear_distance, pentos_road_distance)"
   ]
  },
  {
   "cell_type": "code",
   "execution_count": 131,
   "metadata": {},
   "outputs": [
    {
     "data": {
      "text/plain": [
       "Ttest_indResult(statistic=1.3200453374983592, pvalue=0.18684561402283278)"
      ]
     },
     "execution_count": 131,
     "metadata": {},
     "output_type": "execute_result"
    }
   ],
   "source": [
    "# t test of distance between linear distance type and road distance type in Volantis\n",
    "stats.ttest_ind(volantis_linear_distance, volantis_road_distance)"
   ]
  },
  {
   "cell_type": "markdown",
   "metadata": {},
   "source": [
    "## Looking at the peak and off-peak hour impacts"
   ]
  },
  {
   "cell_type": "code",
   "execution_count": 132,
   "metadata": {},
   "outputs": [
    {
     "data": {
      "text/html": [
       "<div>\n",
       "<style scoped>\n",
       "    .dataframe tbody tr th:only-of-type {\n",
       "        vertical-align: middle;\n",
       "    }\n",
       "\n",
       "    .dataframe tbody tr th {\n",
       "        vertical-align: top;\n",
       "    }\n",
       "\n",
       "    .dataframe thead th {\n",
       "        text-align: right;\n",
       "    }\n",
       "</style>\n",
       "<table border=\"1\" class=\"dataframe\">\n",
       "  <thead>\n",
       "    <tr style=\"text-align: right;\">\n",
       "      <th></th>\n",
       "      <th>duration</th>\n",
       "      <th>distance</th>\n",
       "      <th>started_at</th>\n",
       "      <th>trip_id</th>\n",
       "      <th>vehicle_id</th>\n",
       "      <th>city_id</th>\n",
       "      <th>type</th>\n",
       "      <th>distance_type</th>\n",
       "      <th>speed</th>\n",
       "    </tr>\n",
       "  </thead>\n",
       "  <tbody>\n",
       "    <tr>\n",
       "      <td>1</td>\n",
       "      <td>245</td>\n",
       "      <td>1248</td>\n",
       "      <td>2016-10-03 13:00:00.852999926</td>\n",
       "      <td>427425e1f4318ca2461168bdd6e4fcbd</td>\n",
       "      <td>8336b28f24c3e7a1e3d582073b164895</td>\n",
       "      <td>volantis</td>\n",
       "      <td>going_to_pickup</td>\n",
       "      <td>road</td>\n",
       "      <td>5.093878</td>\n",
       "    </tr>\n",
       "    <tr>\n",
       "      <td>3</td>\n",
       "      <td>471</td>\n",
       "      <td>2585</td>\n",
       "      <td>2016-10-03 13:00:01.841000080</td>\n",
       "      <td>d09d1301d361f7359d0d936557d10f89</td>\n",
       "      <td>81b63920454f70b6755a494e3b28b3a7</td>\n",
       "      <td>bravos</td>\n",
       "      <td>going_to_pickup</td>\n",
       "      <td>linear</td>\n",
       "      <td>5.488323</td>\n",
       "    </tr>\n",
       "    <tr>\n",
       "      <td>4</td>\n",
       "      <td>182</td>\n",
       "      <td>743</td>\n",
       "      <td>2016-10-03 13:00:01.970000029</td>\n",
       "      <td>00f20a701f0ec2519353ef3ffaf75068</td>\n",
       "      <td>b73030977cbad61c9db55418909864fa</td>\n",
       "      <td>pentos</td>\n",
       "      <td>going_to_pickup</td>\n",
       "      <td>road</td>\n",
       "      <td>4.082418</td>\n",
       "    </tr>\n",
       "    <tr>\n",
       "      <td>5</td>\n",
       "      <td>599</td>\n",
       "      <td>1351</td>\n",
       "      <td>2016-10-03 13:00:02.154000044</td>\n",
       "      <td>158e7bc8d42e1d8c94767b00c8f89568</td>\n",
       "      <td>126e868fb282852c2fa95d88878686bf</td>\n",
       "      <td>volantis</td>\n",
       "      <td>going_to_pickup</td>\n",
       "      <td>road</td>\n",
       "      <td>2.255426</td>\n",
       "    </tr>\n",
       "    <tr>\n",
       "      <td>11</td>\n",
       "      <td>291</td>\n",
       "      <td>683</td>\n",
       "      <td>2016-10-03 13:00:06.209000111</td>\n",
       "      <td>a1ea9187c75d05ad0be0856e581298f0</td>\n",
       "      <td>d515623145835dc3cc0f850f22abeff8</td>\n",
       "      <td>pentos</td>\n",
       "      <td>going_to_pickup</td>\n",
       "      <td>linear</td>\n",
       "      <td>2.347079</td>\n",
       "    </tr>\n",
       "  </tbody>\n",
       "</table>\n",
       "</div>"
      ],
      "text/plain": [
       "    duration  distance                    started_at  \\\n",
       "1        245      1248 2016-10-03 13:00:00.852999926   \n",
       "3        471      2585 2016-10-03 13:00:01.841000080   \n",
       "4        182       743 2016-10-03 13:00:01.970000029   \n",
       "5        599      1351 2016-10-03 13:00:02.154000044   \n",
       "11       291       683 2016-10-03 13:00:06.209000111   \n",
       "\n",
       "                             trip_id                        vehicle_id  \\\n",
       "1   427425e1f4318ca2461168bdd6e4fcbd  8336b28f24c3e7a1e3d582073b164895   \n",
       "3   d09d1301d361f7359d0d936557d10f89  81b63920454f70b6755a494e3b28b3a7   \n",
       "4   00f20a701f0ec2519353ef3ffaf75068  b73030977cbad61c9db55418909864fa   \n",
       "5   158e7bc8d42e1d8c94767b00c8f89568  126e868fb282852c2fa95d88878686bf   \n",
       "11  a1ea9187c75d05ad0be0856e581298f0  d515623145835dc3cc0f850f22abeff8   \n",
       "\n",
       "     city_id             type distance_type     speed  \n",
       "1   volantis  going_to_pickup          road  5.093878  \n",
       "3     bravos  going_to_pickup        linear  5.488323  \n",
       "4     pentos  going_to_pickup          road  4.082418  \n",
       "5   volantis  going_to_pickup          road  2.255426  \n",
       "11    pentos  going_to_pickup        linear  2.347079  "
      ]
     },
     "execution_count": 132,
     "metadata": {},
     "output_type": "execute_result"
    }
   ],
   "source": [
    "df_clean.head()"
   ]
  },
  {
   "cell_type": "code",
   "execution_count": 133,
   "metadata": {},
   "outputs": [],
   "source": [
    "df_clean[\"hour\"] = df_clean[\"started_at\"].dt.hour"
   ]
  },
  {
   "cell_type": "code",
   "execution_count": 134,
   "metadata": {},
   "outputs": [
    {
     "data": {
      "text/html": [
       "<div>\n",
       "<style scoped>\n",
       "    .dataframe tbody tr th:only-of-type {\n",
       "        vertical-align: middle;\n",
       "    }\n",
       "\n",
       "    .dataframe tbody tr th {\n",
       "        vertical-align: top;\n",
       "    }\n",
       "\n",
       "    .dataframe thead th {\n",
       "        text-align: right;\n",
       "    }\n",
       "</style>\n",
       "<table border=\"1\" class=\"dataframe\">\n",
       "  <thead>\n",
       "    <tr style=\"text-align: right;\">\n",
       "      <th></th>\n",
       "      <th>duration</th>\n",
       "      <th>distance</th>\n",
       "      <th>started_at</th>\n",
       "      <th>trip_id</th>\n",
       "      <th>vehicle_id</th>\n",
       "      <th>city_id</th>\n",
       "      <th>type</th>\n",
       "      <th>distance_type</th>\n",
       "      <th>speed</th>\n",
       "      <th>hour</th>\n",
       "    </tr>\n",
       "  </thead>\n",
       "  <tbody>\n",
       "    <tr>\n",
       "      <td>1</td>\n",
       "      <td>245</td>\n",
       "      <td>1248</td>\n",
       "      <td>2016-10-03 13:00:00.852999926</td>\n",
       "      <td>427425e1f4318ca2461168bdd6e4fcbd</td>\n",
       "      <td>8336b28f24c3e7a1e3d582073b164895</td>\n",
       "      <td>volantis</td>\n",
       "      <td>going_to_pickup</td>\n",
       "      <td>road</td>\n",
       "      <td>5.093878</td>\n",
       "      <td>13</td>\n",
       "    </tr>\n",
       "    <tr>\n",
       "      <td>3</td>\n",
       "      <td>471</td>\n",
       "      <td>2585</td>\n",
       "      <td>2016-10-03 13:00:01.841000080</td>\n",
       "      <td>d09d1301d361f7359d0d936557d10f89</td>\n",
       "      <td>81b63920454f70b6755a494e3b28b3a7</td>\n",
       "      <td>bravos</td>\n",
       "      <td>going_to_pickup</td>\n",
       "      <td>linear</td>\n",
       "      <td>5.488323</td>\n",
       "      <td>13</td>\n",
       "    </tr>\n",
       "    <tr>\n",
       "      <td>4</td>\n",
       "      <td>182</td>\n",
       "      <td>743</td>\n",
       "      <td>2016-10-03 13:00:01.970000029</td>\n",
       "      <td>00f20a701f0ec2519353ef3ffaf75068</td>\n",
       "      <td>b73030977cbad61c9db55418909864fa</td>\n",
       "      <td>pentos</td>\n",
       "      <td>going_to_pickup</td>\n",
       "      <td>road</td>\n",
       "      <td>4.082418</td>\n",
       "      <td>13</td>\n",
       "    </tr>\n",
       "    <tr>\n",
       "      <td>5</td>\n",
       "      <td>599</td>\n",
       "      <td>1351</td>\n",
       "      <td>2016-10-03 13:00:02.154000044</td>\n",
       "      <td>158e7bc8d42e1d8c94767b00c8f89568</td>\n",
       "      <td>126e868fb282852c2fa95d88878686bf</td>\n",
       "      <td>volantis</td>\n",
       "      <td>going_to_pickup</td>\n",
       "      <td>road</td>\n",
       "      <td>2.255426</td>\n",
       "      <td>13</td>\n",
       "    </tr>\n",
       "    <tr>\n",
       "      <td>11</td>\n",
       "      <td>291</td>\n",
       "      <td>683</td>\n",
       "      <td>2016-10-03 13:00:06.209000111</td>\n",
       "      <td>a1ea9187c75d05ad0be0856e581298f0</td>\n",
       "      <td>d515623145835dc3cc0f850f22abeff8</td>\n",
       "      <td>pentos</td>\n",
       "      <td>going_to_pickup</td>\n",
       "      <td>linear</td>\n",
       "      <td>2.347079</td>\n",
       "      <td>13</td>\n",
       "    </tr>\n",
       "  </tbody>\n",
       "</table>\n",
       "</div>"
      ],
      "text/plain": [
       "    duration  distance                    started_at  \\\n",
       "1        245      1248 2016-10-03 13:00:00.852999926   \n",
       "3        471      2585 2016-10-03 13:00:01.841000080   \n",
       "4        182       743 2016-10-03 13:00:01.970000029   \n",
       "5        599      1351 2016-10-03 13:00:02.154000044   \n",
       "11       291       683 2016-10-03 13:00:06.209000111   \n",
       "\n",
       "                             trip_id                        vehicle_id  \\\n",
       "1   427425e1f4318ca2461168bdd6e4fcbd  8336b28f24c3e7a1e3d582073b164895   \n",
       "3   d09d1301d361f7359d0d936557d10f89  81b63920454f70b6755a494e3b28b3a7   \n",
       "4   00f20a701f0ec2519353ef3ffaf75068  b73030977cbad61c9db55418909864fa   \n",
       "5   158e7bc8d42e1d8c94767b00c8f89568  126e868fb282852c2fa95d88878686bf   \n",
       "11  a1ea9187c75d05ad0be0856e581298f0  d515623145835dc3cc0f850f22abeff8   \n",
       "\n",
       "     city_id             type distance_type     speed  hour  \n",
       "1   volantis  going_to_pickup          road  5.093878    13  \n",
       "3     bravos  going_to_pickup        linear  5.488323    13  \n",
       "4     pentos  going_to_pickup          road  4.082418    13  \n",
       "5   volantis  going_to_pickup          road  2.255426    13  \n",
       "11    pentos  going_to_pickup        linear  2.347079    13  "
      ]
     },
     "execution_count": 134,
     "metadata": {},
     "output_type": "execute_result"
    }
   ],
   "source": [
    "df_clean.head()"
   ]
  },
  {
   "cell_type": "code",
   "execution_count": 135,
   "metadata": {},
   "outputs": [
    {
     "data": {
      "text/plain": [
       "<seaborn.axisgrid.JointGrid at 0x7f4fba052160>"
      ]
     },
     "execution_count": 135,
     "metadata": {},
     "output_type": "execute_result"
    },
    {
     "data": {
      "image/png": "[encoded data removed]",
      "text/plain": [
       "<Figure size 432x432 with 3 Axes>"
      ]
     },
     "metadata": {
      "needs_background": "light"
     },
     "output_type": "display_data"
    }
   ],
   "source": [
    "sns.jointplot(x=\"duration\", y=\"distance\", data=df_clean, kind=\"kde\")"
   ]
  },
  {
   "cell_type": "code",
   "execution_count": 147,
   "metadata": {},
   "outputs": [],
   "source": [
    "bravos = df_clean[(df_clean[\"city_id\"] == \"bravos\")]\n",
    "pentos = df_clean[(df_clean[\"city_id\"] == \"pentos\")]\n",
    "volantis = df_clean[(df_clean[\"city_id\"] == \"volantis\") ]\n"
   ]
  },
  {
   "cell_type": "code",
   "execution_count": 161,
   "metadata": {},
   "outputs": [
    {
     "data": {
      "text/plain": [
       "Text(0.5, 1.0, 'Distance types in Bravos')"
      ]
     },
     "execution_count": 161,
     "metadata": {},
     "output_type": "execute_result"
    },
    {
     "data": {
      "image/png": "[encoded data removed]",
      "text/plain": [
       "<Figure size 1152x432 with 1 Axes>"
      ]
     },
     "metadata": {
      "needs_background": "light"
     },
     "output_type": "display_data"
    }
   ],
   "source": [
    "plt.figure(figsize=(16, 6))\n",
    "sns.barplot(bravos[\"hour\"], bravos[\"speed\"], hue = bravos[\"distance_type\"]).set_title(\"Distance types in Bravos\")"
   ]
  },
  {
   "cell_type": "code",
   "execution_count": 160,
   "metadata": {},
   "outputs": [
    {
     "data": {
      "text/plain": [
       "Text(0.5, 1.0, 'Distance types in Pentos')"
      ]
     },
     "execution_count": 160,
     "metadata": {},
     "output_type": "execute_result"
    },
    {
     "data": {
      "image/png": "[encoded data removed]",
      "text/plain": [
       "<Figure size 1152x432 with 1 Axes>"
      ]
     },
     "metadata": {
      "needs_background": "light"
     },
     "output_type": "display_data"
    }
   ],
   "source": [
    "plt.figure(figsize=(16, 6))\n",
    "sns.barplot(pentos[\"hour\"], pentos[\"speed\"], hue = pentos[\"distance_type\"]).set_title(\"Distance types in Pentos\")"
   ]
  },
  {
   "cell_type": "code",
   "execution_count": 159,
   "metadata": {},
   "outputs": [
    {
     "data": {
      "text/plain": [
       "Text(0.5, 1.0, 'Distance types in Volantis')"
      ]
     },
     "execution_count": 159,
     "metadata": {},
     "output_type": "execute_result"
    },
    {
     "data": {
      "image/png": "[encoded data removed]",
      "text/plain": [
       "<Figure size 1152x432 with 1 Axes>"
      ]
     },
     "metadata": {
      "needs_background": "light"
     },
     "output_type": "display_data"
    }
   ],
   "source": [
    "plt.figure(figsize=(16, 6))\n",
    "sns.barplot(volantis[\"hour\"], volantis[\"speed\"], hue = volantis[\"distance_type\"]).set_title(\"Distance types in Volantis\")"
   ]
  },
  {
   "cell_type": "markdown",
   "metadata": {},
   "source": [
    "---"
   ]
  },
  {
   "cell_type": "markdown",
   "metadata": {},
   "source": [
    "## Response to the questions"
   ]
  },
  {
   "cell_type": "markdown",
   "metadata": {},
   "source": [
    "**Question 1**   \n",
    "Should the company move towards road distance? What's the max price it would make sense to pay per query? (make all the assumptions you need, and make them explicit)\n",
    "\n",
    "\n"
   ]
  },
  {
   "cell_type": "markdown",
   "metadata": {},
   "source": [
    "**Response**  \n",
    "By looking at the t test between distance type in each city, it seems that there is no statistic difference between the distance type. Therefore I won't suggest to use real-time query.\n",
    "\n",
    "If I'd have time, I will also look at the distance type at different hours (for example peak hour and off-peak hour). Now I only have time to visualize it, and from the figure one can see that there are some hours stand quite different to the others, meaning that this may bring bias to our analysis. Moreover, I didn't have time to do the normalization, I think it is very important.\n"
   ]
  },
  {
   "cell_type": "markdown",
   "metadata": {},
   "source": [
    "   "
   ]
  },
  {
   "cell_type": "markdown",
   "metadata": {},
   "source": [
    "**Question 2**  \n",
    "How would you improve the experimental design? Would you collect any additional data?"
   ]
  },
  {
   "cell_type": "markdown",
   "metadata": {},
   "source": [
    "**Response**  \n",
    "I'd add the coordinate where the passenger wait and where the car is waiting. It is to caluclate the true linear distance and see the difference between the geographic distance and driving distance.\n"
   ]
  },
  {
   "cell_type": "code",
   "execution_count": null,
   "metadata": {},
   "outputs": [],
   "source": []
  }
 ],
 "metadata": {
  "kernelspec": {
   "display_name": "Python 3",
   "language": "python",
   "name": "python3"
  },
  "language_info": {
   "codemirror_mode": {
    "name": "ipython",
    "version": 3
   },
   "file_extension": ".py",
   "mimetype": "text/x-python",
   "name": "python",
   "nbconvert_exporter": "python",
   "pygments_lexer": "ipython3",
   "version": "3.6.8"
  }
 },
 "nbformat": 4,
 "nbformat_minor": 2
}
